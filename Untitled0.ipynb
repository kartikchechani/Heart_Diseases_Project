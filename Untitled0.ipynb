{
  "nbformat": 4,
  "nbformat_minor": 0,
  "metadata": {
    "colab": {
      "name": "Untitled0.ipynb",
      "provenance": [],
      "authorship_tag": "ABX9TyPIcpt62H9yINUmvr0B/FOA",
      "include_colab_link": true
    },
    "kernelspec": {
      "name": "python3",
      "display_name": "Python 3"
    },
    "language_info": {
      "name": "python"
    }
  },
  "cells": [
    {
      "cell_type": "markdown",
      "metadata": {
        "id": "view-in-github",
        "colab_type": "text"
      },
      "source": [
        "<a href=\"https://colab.research.google.com/github/kartikchechani/Heart_Diseases_Project/blob/master/Untitled0.ipynb\" target=\"_parent\"><img src=\"https://colab.research.google.com/assets/colab-badge.svg\" alt=\"Open In Colab\"/></a>"
      ]
    },
    {
      "cell_type": "markdown",
      "metadata": {
        "id": "TMRHhbMXsXv1"
      },
      "source": [
        "# Heart Diseases Project\n",
        "This dataset taken from Kaggle contains the details of various patients who came for checkup due to heart problems. Our goal is to predict if they do have a heart disease or not. The various fields in the data set are-\n",
        "\n",
        "\n",
        "*   age\n",
        "*   sex\n",
        "*   chest pain type (4 values)\n",
        "*   resting blood pressure\n",
        "*   serum cholestoral in mg/dl\n",
        "*   fasting blood sugar > 120 mg/dl\n",
        "*   resting electrocardiographic results (values 0,1,2)\n",
        "*   maximum heart rate achieved\n",
        "*   exercise induced angina\n",
        "*   oldpeak = ST depression induced by exercise relative to rest\n",
        "*   the slope of the peak exercise ST segment\n",
        "*   number of major vessels (0-3) colored by flourosopy\n",
        "*   thal: 3 = normal; 6 = fixed defect; 7 = reversable defect\n",
        "\n",
        "\n",
        "\n",
        "\n",
        "\n",
        "\n",
        "\n",
        "\n",
        "\n",
        "\n",
        "\n",
        "\n",
        "\n",
        "\n",
        "\n",
        "\n",
        "\n",
        "\n"
      ]
    },
    {
      "cell_type": "code",
      "metadata": {
        "id": "cJ6wS_NGrrVO"
      },
      "source": [
        "import numpy as np\n",
        "import pandas as pd\n",
        "import matplotlib.pyplot as plt\n",
        "import seaborn as sns\n",
        "%matplotlib inline"
      ],
      "execution_count": 1,
      "outputs": []
    },
    {
      "cell_type": "code",
      "metadata": {
        "colab": {
          "base_uri": "https://localhost:8080/"
        },
        "id": "8sDosD6Drtt0",
        "outputId": "2935a2e9-67c6-4a9b-f088-188ec9d00efa"
      },
      "source": [
        "\n",
        "from google.colab import drive\n",
        "drive.mount('/content/drive')\n"
      ],
      "execution_count": 2,
      "outputs": [
        {
          "output_type": "stream",
          "text": [
            "Mounted at /content/drive\n"
          ],
          "name": "stdout"
        }
      ]
    },
    {
      "cell_type": "code",
      "metadata": {
        "id": "_DN1KW62slyP"
      },
      "source": [
        "data=pd.read_csv('/content/drive/My Drive/heart.csv')"
      ],
      "execution_count": 3,
      "outputs": []
    },
    {
      "cell_type": "code",
      "metadata": {
        "colab": {
          "base_uri": "https://localhost:8080/",
          "height": 195
        },
        "id": "UosyUaq5tL5U",
        "outputId": "b58bb905-9939-4b7e-a1ed-7948302e7aa7"
      },
      "source": [
        "data.head()"
      ],
      "execution_count": 7,
      "outputs": [
        {
          "output_type": "execute_result",
          "data": {
            "text/html": [
              "<div>\n",
              "<style scoped>\n",
              "    .dataframe tbody tr th:only-of-type {\n",
              "        vertical-align: middle;\n",
              "    }\n",
              "\n",
              "    .dataframe tbody tr th {\n",
              "        vertical-align: top;\n",
              "    }\n",
              "\n",
              "    .dataframe thead th {\n",
              "        text-align: right;\n",
              "    }\n",
              "</style>\n",
              "<table border=\"1\" class=\"dataframe\">\n",
              "  <thead>\n",
              "    <tr style=\"text-align: right;\">\n",
              "      <th></th>\n",
              "      <th>age</th>\n",
              "      <th>sex</th>\n",
              "      <th>cp</th>\n",
              "      <th>trestbps</th>\n",
              "      <th>chol</th>\n",
              "      <th>fbs</th>\n",
              "      <th>restecg</th>\n",
              "      <th>thalach</th>\n",
              "      <th>exang</th>\n",
              "      <th>oldpeak</th>\n",
              "      <th>slope</th>\n",
              "      <th>ca</th>\n",
              "      <th>thal</th>\n",
              "      <th>target</th>\n",
              "    </tr>\n",
              "  </thead>\n",
              "  <tbody>\n",
              "    <tr>\n",
              "      <th>0</th>\n",
              "      <td>63</td>\n",
              "      <td>1</td>\n",
              "      <td>3</td>\n",
              "      <td>145</td>\n",
              "      <td>233</td>\n",
              "      <td>1</td>\n",
              "      <td>0</td>\n",
              "      <td>150</td>\n",
              "      <td>0</td>\n",
              "      <td>2.3</td>\n",
              "      <td>0</td>\n",
              "      <td>0</td>\n",
              "      <td>1</td>\n",
              "      <td>1</td>\n",
              "    </tr>\n",
              "    <tr>\n",
              "      <th>1</th>\n",
              "      <td>37</td>\n",
              "      <td>1</td>\n",
              "      <td>2</td>\n",
              "      <td>130</td>\n",
              "      <td>250</td>\n",
              "      <td>0</td>\n",
              "      <td>1</td>\n",
              "      <td>187</td>\n",
              "      <td>0</td>\n",
              "      <td>3.5</td>\n",
              "      <td>0</td>\n",
              "      <td>0</td>\n",
              "      <td>2</td>\n",
              "      <td>1</td>\n",
              "    </tr>\n",
              "    <tr>\n",
              "      <th>2</th>\n",
              "      <td>41</td>\n",
              "      <td>0</td>\n",
              "      <td>1</td>\n",
              "      <td>130</td>\n",
              "      <td>204</td>\n",
              "      <td>0</td>\n",
              "      <td>0</td>\n",
              "      <td>172</td>\n",
              "      <td>0</td>\n",
              "      <td>1.4</td>\n",
              "      <td>2</td>\n",
              "      <td>0</td>\n",
              "      <td>2</td>\n",
              "      <td>1</td>\n",
              "    </tr>\n",
              "    <tr>\n",
              "      <th>3</th>\n",
              "      <td>56</td>\n",
              "      <td>1</td>\n",
              "      <td>1</td>\n",
              "      <td>120</td>\n",
              "      <td>236</td>\n",
              "      <td>0</td>\n",
              "      <td>1</td>\n",
              "      <td>178</td>\n",
              "      <td>0</td>\n",
              "      <td>0.8</td>\n",
              "      <td>2</td>\n",
              "      <td>0</td>\n",
              "      <td>2</td>\n",
              "      <td>1</td>\n",
              "    </tr>\n",
              "    <tr>\n",
              "      <th>4</th>\n",
              "      <td>57</td>\n",
              "      <td>0</td>\n",
              "      <td>0</td>\n",
              "      <td>120</td>\n",
              "      <td>354</td>\n",
              "      <td>0</td>\n",
              "      <td>1</td>\n",
              "      <td>163</td>\n",
              "      <td>1</td>\n",
              "      <td>0.6</td>\n",
              "      <td>2</td>\n",
              "      <td>0</td>\n",
              "      <td>2</td>\n",
              "      <td>1</td>\n",
              "    </tr>\n",
              "  </tbody>\n",
              "</table>\n",
              "</div>"
            ],
            "text/plain": [
              "   age  sex  cp  trestbps  chol  fbs  ...  exang  oldpeak  slope  ca  thal  target\n",
              "0   63    1   3       145   233    1  ...      0      2.3      0   0     1       1\n",
              "1   37    1   2       130   250    0  ...      0      3.5      0   0     2       1\n",
              "2   41    0   1       130   204    0  ...      0      1.4      2   0     2       1\n",
              "3   56    1   1       120   236    0  ...      0      0.8      2   0     2       1\n",
              "4   57    0   0       120   354    0  ...      1      0.6      2   0     2       1\n",
              "\n",
              "[5 rows x 14 columns]"
            ]
          },
          "metadata": {
            "tags": []
          },
          "execution_count": 7
        }
      ]
    },
    {
      "cell_type": "code",
      "metadata": {
        "colab": {
          "base_uri": "https://localhost:8080/"
        },
        "id": "WL6zKZpSuRzK",
        "outputId": "a3c21daa-ae38-4e2f-9885-ebbfcab6f2ec"
      },
      "source": [
        "data.info()\n"
      ],
      "execution_count": 5,
      "outputs": [
        {
          "output_type": "stream",
          "text": [
            "<class 'pandas.core.frame.DataFrame'>\n",
            "RangeIndex: 303 entries, 0 to 302\n",
            "Data columns (total 14 columns):\n",
            " #   Column    Non-Null Count  Dtype  \n",
            "---  ------    --------------  -----  \n",
            " 0   age       303 non-null    int64  \n",
            " 1   sex       303 non-null    int64  \n",
            " 2   cp        303 non-null    int64  \n",
            " 3   trestbps  303 non-null    int64  \n",
            " 4   chol      303 non-null    int64  \n",
            " 5   fbs       303 non-null    int64  \n",
            " 6   restecg   303 non-null    int64  \n",
            " 7   thalach   303 non-null    int64  \n",
            " 8   exang     303 non-null    int64  \n",
            " 9   oldpeak   303 non-null    float64\n",
            " 10  slope     303 non-null    int64  \n",
            " 11  ca        303 non-null    int64  \n",
            " 12  thal      303 non-null    int64  \n",
            " 13  target    303 non-null    int64  \n",
            "dtypes: float64(1), int64(13)\n",
            "memory usage: 33.3 KB\n"
          ],
          "name": "stdout"
        }
      ]
    },
    {
      "cell_type": "code",
      "metadata": {
        "colab": {
          "base_uri": "https://localhost:8080/",
          "height": 482
        },
        "id": "2Cd79LGCuWHk",
        "outputId": "8e1a2cf7-eb13-48c3-ff4a-7cff6bf6a880"
      },
      "source": [
        "data.corr()"
      ],
      "execution_count": 8,
      "outputs": [
        {
          "output_type": "execute_result",
          "data": {
            "text/html": [
              "<div>\n",
              "<style scoped>\n",
              "    .dataframe tbody tr th:only-of-type {\n",
              "        vertical-align: middle;\n",
              "    }\n",
              "\n",
              "    .dataframe tbody tr th {\n",
              "        vertical-align: top;\n",
              "    }\n",
              "\n",
              "    .dataframe thead th {\n",
              "        text-align: right;\n",
              "    }\n",
              "</style>\n",
              "<table border=\"1\" class=\"dataframe\">\n",
              "  <thead>\n",
              "    <tr style=\"text-align: right;\">\n",
              "      <th></th>\n",
              "      <th>age</th>\n",
              "      <th>sex</th>\n",
              "      <th>cp</th>\n",
              "      <th>trestbps</th>\n",
              "      <th>chol</th>\n",
              "      <th>fbs</th>\n",
              "      <th>restecg</th>\n",
              "      <th>thalach</th>\n",
              "      <th>exang</th>\n",
              "      <th>oldpeak</th>\n",
              "      <th>slope</th>\n",
              "      <th>ca</th>\n",
              "      <th>thal</th>\n",
              "      <th>target</th>\n",
              "    </tr>\n",
              "  </thead>\n",
              "  <tbody>\n",
              "    <tr>\n",
              "      <th>age</th>\n",
              "      <td>1.000000</td>\n",
              "      <td>-0.098447</td>\n",
              "      <td>-0.068653</td>\n",
              "      <td>0.279351</td>\n",
              "      <td>0.213678</td>\n",
              "      <td>0.121308</td>\n",
              "      <td>-0.116211</td>\n",
              "      <td>-0.398522</td>\n",
              "      <td>0.096801</td>\n",
              "      <td>0.210013</td>\n",
              "      <td>-0.168814</td>\n",
              "      <td>0.276326</td>\n",
              "      <td>0.068001</td>\n",
              "      <td>-0.225439</td>\n",
              "    </tr>\n",
              "    <tr>\n",
              "      <th>sex</th>\n",
              "      <td>-0.098447</td>\n",
              "      <td>1.000000</td>\n",
              "      <td>-0.049353</td>\n",
              "      <td>-0.056769</td>\n",
              "      <td>-0.197912</td>\n",
              "      <td>0.045032</td>\n",
              "      <td>-0.058196</td>\n",
              "      <td>-0.044020</td>\n",
              "      <td>0.141664</td>\n",
              "      <td>0.096093</td>\n",
              "      <td>-0.030711</td>\n",
              "      <td>0.118261</td>\n",
              "      <td>0.210041</td>\n",
              "      <td>-0.280937</td>\n",
              "    </tr>\n",
              "    <tr>\n",
              "      <th>cp</th>\n",
              "      <td>-0.068653</td>\n",
              "      <td>-0.049353</td>\n",
              "      <td>1.000000</td>\n",
              "      <td>0.047608</td>\n",
              "      <td>-0.076904</td>\n",
              "      <td>0.094444</td>\n",
              "      <td>0.044421</td>\n",
              "      <td>0.295762</td>\n",
              "      <td>-0.394280</td>\n",
              "      <td>-0.149230</td>\n",
              "      <td>0.119717</td>\n",
              "      <td>-0.181053</td>\n",
              "      <td>-0.161736</td>\n",
              "      <td>0.433798</td>\n",
              "    </tr>\n",
              "    <tr>\n",
              "      <th>trestbps</th>\n",
              "      <td>0.279351</td>\n",
              "      <td>-0.056769</td>\n",
              "      <td>0.047608</td>\n",
              "      <td>1.000000</td>\n",
              "      <td>0.123174</td>\n",
              "      <td>0.177531</td>\n",
              "      <td>-0.114103</td>\n",
              "      <td>-0.046698</td>\n",
              "      <td>0.067616</td>\n",
              "      <td>0.193216</td>\n",
              "      <td>-0.121475</td>\n",
              "      <td>0.101389</td>\n",
              "      <td>0.062210</td>\n",
              "      <td>-0.144931</td>\n",
              "    </tr>\n",
              "    <tr>\n",
              "      <th>chol</th>\n",
              "      <td>0.213678</td>\n",
              "      <td>-0.197912</td>\n",
              "      <td>-0.076904</td>\n",
              "      <td>0.123174</td>\n",
              "      <td>1.000000</td>\n",
              "      <td>0.013294</td>\n",
              "      <td>-0.151040</td>\n",
              "      <td>-0.009940</td>\n",
              "      <td>0.067023</td>\n",
              "      <td>0.053952</td>\n",
              "      <td>-0.004038</td>\n",
              "      <td>0.070511</td>\n",
              "      <td>0.098803</td>\n",
              "      <td>-0.085239</td>\n",
              "    </tr>\n",
              "    <tr>\n",
              "      <th>fbs</th>\n",
              "      <td>0.121308</td>\n",
              "      <td>0.045032</td>\n",
              "      <td>0.094444</td>\n",
              "      <td>0.177531</td>\n",
              "      <td>0.013294</td>\n",
              "      <td>1.000000</td>\n",
              "      <td>-0.084189</td>\n",
              "      <td>-0.008567</td>\n",
              "      <td>0.025665</td>\n",
              "      <td>0.005747</td>\n",
              "      <td>-0.059894</td>\n",
              "      <td>0.137979</td>\n",
              "      <td>-0.032019</td>\n",
              "      <td>-0.028046</td>\n",
              "    </tr>\n",
              "    <tr>\n",
              "      <th>restecg</th>\n",
              "      <td>-0.116211</td>\n",
              "      <td>-0.058196</td>\n",
              "      <td>0.044421</td>\n",
              "      <td>-0.114103</td>\n",
              "      <td>-0.151040</td>\n",
              "      <td>-0.084189</td>\n",
              "      <td>1.000000</td>\n",
              "      <td>0.044123</td>\n",
              "      <td>-0.070733</td>\n",
              "      <td>-0.058770</td>\n",
              "      <td>0.093045</td>\n",
              "      <td>-0.072042</td>\n",
              "      <td>-0.011981</td>\n",
              "      <td>0.137230</td>\n",
              "    </tr>\n",
              "    <tr>\n",
              "      <th>thalach</th>\n",
              "      <td>-0.398522</td>\n",
              "      <td>-0.044020</td>\n",
              "      <td>0.295762</td>\n",
              "      <td>-0.046698</td>\n",
              "      <td>-0.009940</td>\n",
              "      <td>-0.008567</td>\n",
              "      <td>0.044123</td>\n",
              "      <td>1.000000</td>\n",
              "      <td>-0.378812</td>\n",
              "      <td>-0.344187</td>\n",
              "      <td>0.386784</td>\n",
              "      <td>-0.213177</td>\n",
              "      <td>-0.096439</td>\n",
              "      <td>0.421741</td>\n",
              "    </tr>\n",
              "    <tr>\n",
              "      <th>exang</th>\n",
              "      <td>0.096801</td>\n",
              "      <td>0.141664</td>\n",
              "      <td>-0.394280</td>\n",
              "      <td>0.067616</td>\n",
              "      <td>0.067023</td>\n",
              "      <td>0.025665</td>\n",
              "      <td>-0.070733</td>\n",
              "      <td>-0.378812</td>\n",
              "      <td>1.000000</td>\n",
              "      <td>0.288223</td>\n",
              "      <td>-0.257748</td>\n",
              "      <td>0.115739</td>\n",
              "      <td>0.206754</td>\n",
              "      <td>-0.436757</td>\n",
              "    </tr>\n",
              "    <tr>\n",
              "      <th>oldpeak</th>\n",
              "      <td>0.210013</td>\n",
              "      <td>0.096093</td>\n",
              "      <td>-0.149230</td>\n",
              "      <td>0.193216</td>\n",
              "      <td>0.053952</td>\n",
              "      <td>0.005747</td>\n",
              "      <td>-0.058770</td>\n",
              "      <td>-0.344187</td>\n",
              "      <td>0.288223</td>\n",
              "      <td>1.000000</td>\n",
              "      <td>-0.577537</td>\n",
              "      <td>0.222682</td>\n",
              "      <td>0.210244</td>\n",
              "      <td>-0.430696</td>\n",
              "    </tr>\n",
              "    <tr>\n",
              "      <th>slope</th>\n",
              "      <td>-0.168814</td>\n",
              "      <td>-0.030711</td>\n",
              "      <td>0.119717</td>\n",
              "      <td>-0.121475</td>\n",
              "      <td>-0.004038</td>\n",
              "      <td>-0.059894</td>\n",
              "      <td>0.093045</td>\n",
              "      <td>0.386784</td>\n",
              "      <td>-0.257748</td>\n",
              "      <td>-0.577537</td>\n",
              "      <td>1.000000</td>\n",
              "      <td>-0.080155</td>\n",
              "      <td>-0.104764</td>\n",
              "      <td>0.345877</td>\n",
              "    </tr>\n",
              "    <tr>\n",
              "      <th>ca</th>\n",
              "      <td>0.276326</td>\n",
              "      <td>0.118261</td>\n",
              "      <td>-0.181053</td>\n",
              "      <td>0.101389</td>\n",
              "      <td>0.070511</td>\n",
              "      <td>0.137979</td>\n",
              "      <td>-0.072042</td>\n",
              "      <td>-0.213177</td>\n",
              "      <td>0.115739</td>\n",
              "      <td>0.222682</td>\n",
              "      <td>-0.080155</td>\n",
              "      <td>1.000000</td>\n",
              "      <td>0.151832</td>\n",
              "      <td>-0.391724</td>\n",
              "    </tr>\n",
              "    <tr>\n",
              "      <th>thal</th>\n",
              "      <td>0.068001</td>\n",
              "      <td>0.210041</td>\n",
              "      <td>-0.161736</td>\n",
              "      <td>0.062210</td>\n",
              "      <td>0.098803</td>\n",
              "      <td>-0.032019</td>\n",
              "      <td>-0.011981</td>\n",
              "      <td>-0.096439</td>\n",
              "      <td>0.206754</td>\n",
              "      <td>0.210244</td>\n",
              "      <td>-0.104764</td>\n",
              "      <td>0.151832</td>\n",
              "      <td>1.000000</td>\n",
              "      <td>-0.344029</td>\n",
              "    </tr>\n",
              "    <tr>\n",
              "      <th>target</th>\n",
              "      <td>-0.225439</td>\n",
              "      <td>-0.280937</td>\n",
              "      <td>0.433798</td>\n",
              "      <td>-0.144931</td>\n",
              "      <td>-0.085239</td>\n",
              "      <td>-0.028046</td>\n",
              "      <td>0.137230</td>\n",
              "      <td>0.421741</td>\n",
              "      <td>-0.436757</td>\n",
              "      <td>-0.430696</td>\n",
              "      <td>0.345877</td>\n",
              "      <td>-0.391724</td>\n",
              "      <td>-0.344029</td>\n",
              "      <td>1.000000</td>\n",
              "    </tr>\n",
              "  </tbody>\n",
              "</table>\n",
              "</div>"
            ],
            "text/plain": [
              "               age       sex        cp  ...        ca      thal    target\n",
              "age       1.000000 -0.098447 -0.068653  ...  0.276326  0.068001 -0.225439\n",
              "sex      -0.098447  1.000000 -0.049353  ...  0.118261  0.210041 -0.280937\n",
              "cp       -0.068653 -0.049353  1.000000  ... -0.181053 -0.161736  0.433798\n",
              "trestbps  0.279351 -0.056769  0.047608  ...  0.101389  0.062210 -0.144931\n",
              "chol      0.213678 -0.197912 -0.076904  ...  0.070511  0.098803 -0.085239\n",
              "fbs       0.121308  0.045032  0.094444  ...  0.137979 -0.032019 -0.028046\n",
              "restecg  -0.116211 -0.058196  0.044421  ... -0.072042 -0.011981  0.137230\n",
              "thalach  -0.398522 -0.044020  0.295762  ... -0.213177 -0.096439  0.421741\n",
              "exang     0.096801  0.141664 -0.394280  ...  0.115739  0.206754 -0.436757\n",
              "oldpeak   0.210013  0.096093 -0.149230  ...  0.222682  0.210244 -0.430696\n",
              "slope    -0.168814 -0.030711  0.119717  ... -0.080155 -0.104764  0.345877\n",
              "ca        0.276326  0.118261 -0.181053  ...  1.000000  0.151832 -0.391724\n",
              "thal      0.068001  0.210041 -0.161736  ...  0.151832  1.000000 -0.344029\n",
              "target   -0.225439 -0.280937  0.433798  ... -0.391724 -0.344029  1.000000\n",
              "\n",
              "[14 rows x 14 columns]"
            ]
          },
          "metadata": {
            "tags": []
          },
          "execution_count": 8
        }
      ]
    },
    {
      "cell_type": "code",
      "metadata": {
        "colab": {
          "base_uri": "https://localhost:8080/",
          "height": 317
        },
        "id": "7L3Plb2avWLw",
        "outputId": "97ac1bdc-06fe-4811-e0aa-7a88fae44869"
      },
      "source": [
        "sns.heatmap(data=data.corr(),cmap='coolwarm')"
      ],
      "execution_count": 9,
      "outputs": [
        {
          "output_type": "execute_result",
          "data": {
            "text/plain": [
              "<matplotlib.axes._subplots.AxesSubplot at 0x7f093a949510>"
            ]
          },
          "metadata": {
            "tags": []
          },
          "execution_count": 9
        },
        {
          "output_type": "display_data",
          "data": {
            "image/png": "[encoded data removed]",
            "text/plain": [
              "<Figure size 432x288 with 2 Axes>"
            ]
          },
          "metadata": {
            "tags": [],
            "needs_background": "light"
          }
        }
      ]
    },
    {
      "cell_type": "code",
      "metadata": {
        "colab": {
          "base_uri": "https://localhost:8080/",
          "height": 296
        },
        "id": "ash8f_2PvY5r",
        "outputId": "6b7fe505-1916-4948-e038-a3a7ef5db890"
      },
      "source": [
        "\n",
        "sns.countplot(x='target',data=data)"
      ],
      "execution_count": 10,
      "outputs": [
        {
          "output_type": "execute_result",
          "data": {
            "text/plain": [
              "<matplotlib.axes._subplots.AxesSubplot at 0x7f09327a6090>"
            ]
          },
          "metadata": {
            "tags": []
          },
          "execution_count": 10
        },
        {
          "output_type": "display_data",
          "data": {
            "image/png": "[encoded data removed]",
            "text/plain": [
              "<Figure size 432x288 with 1 Axes>"
            ]
          },
          "metadata": {
            "tags": [],
            "needs_background": "light"
          }
        }
      ]
    },
    {
      "cell_type": "code",
      "metadata": {
        "colab": {
          "base_uri": "https://localhost:8080/",
          "height": 296
        },
        "id": "Y158TDJtvb-U",
        "outputId": "4d9406ca-d8c7-4369-9af5-8482f8c96d60"
      },
      "source": [
        "\n",
        "sns.countplot(x='target',data=data,hue='sex')"
      ],
      "execution_count": 11,
      "outputs": [
        {
          "output_type": "execute_result",
          "data": {
            "text/plain": [
              "<matplotlib.axes._subplots.AxesSubplot at 0x7f093204c450>"
            ]
          },
          "metadata": {
            "tags": []
          },
          "execution_count": 11
        },
        {
          "output_type": "display_data",
          "data": {
            "image/png": "[encoded data removed]",
            "text/plain": [
              "<Figure size 432x288 with 1 Axes>"
            ]
          },
          "metadata": {
            "tags": [],
            "needs_background": "light"
          }
        }
      ]
    },
    {
      "cell_type": "code",
      "metadata": {
        "colab": {
          "base_uri": "https://localhost:8080/",
          "height": 296
        },
        "id": "8rMs6f69vfO8",
        "outputId": "e28c0648-4901-45b9-c48a-85dbd127304d"
      },
      "source": [
        "sns.countplot(x='cp',data=data,hue='target')"
      ],
      "execution_count": 12,
      "outputs": [
        {
          "output_type": "execute_result",
          "data": {
            "text/plain": [
              "<matplotlib.axes._subplots.AxesSubplot at 0x7f0931036790>"
            ]
          },
          "metadata": {
            "tags": []
          },
          "execution_count": 12
        },
        {
          "output_type": "display_data",
          "data": {
            "image/png": "[encoded data removed]",
            "text/plain": [
              "<Figure size 432x288 with 1 Axes>"
            ]
          },
          "metadata": {
            "tags": [],
            "needs_background": "light"
          }
        }
      ]
    },
    {
      "cell_type": "code",
      "metadata": {
        "colab": {
          "base_uri": "https://localhost:8080/",
          "height": 514
        },
        "id": "2pJZu6aeviA8",
        "outputId": "5295b6ba-94c7-4787-fab9-6fbf22be805b"
      },
      "source": [
        "plt.figure(figsize=(12,8))\n",
        "sns.countplot(x='age',data=data,hue='target')"
      ],
      "execution_count": 13,
      "outputs": [
        {
          "output_type": "execute_result",
          "data": {
            "text/plain": [
              "<matplotlib.axes._subplots.AxesSubplot at 0x7f0930fd6f90>"
            ]
          },
          "metadata": {
            "tags": []
          },
          "execution_count": 13
        },
        {
          "output_type": "display_data",
          "data": {
            "image/png": "[encoded data removed]",
            "text/plain": [
              "<Figure size 864x576 with 1 Axes>"
            ]
          },
          "metadata": {
            "tags": [],
            "needs_background": "light"
          }
        }
      ]
    },
    {
      "cell_type": "markdown",
      "metadata": {
        "id": "UIgn8sAuvunF"
      },
      "source": [
        "# **Test Train Split**"
      ]
    },
    {
      "cell_type": "code",
      "metadata": {
        "id": "F_yKSFR9vlMs"
      },
      "source": [
        "from sklearn.model_selection import train_test_split"
      ],
      "execution_count": 14,
      "outputs": []
    },
    {
      "cell_type": "code",
      "metadata": {
        "id": "td3G1mP9v3Bk"
      },
      "source": [
        "X=data.drop('target',axis=1)\n",
        "y=data['target'];"
      ],
      "execution_count": 15,
      "outputs": []
    },
    {
      "cell_type": "code",
      "metadata": {
        "id": "4lTfrV8Bv5HK"
      },
      "source": [
        "X_train, X_test, y_train, y_test = train_test_split(X, y, test_size=0.4, random_state=42)"
      ],
      "execution_count": 16,
      "outputs": []
    },
    {
      "cell_type": "code",
      "metadata": {
        "id": "Igv4rFSnv7o8"
      },
      "source": [
        "X_val,X_test,y_val,y_test = train_test_split(X_test,y_test,test_size=0.5, random_state=42)"
      ],
      "execution_count": 17,
      "outputs": []
    },
    {
      "cell_type": "markdown",
      "metadata": {
        "id": "aePlCDfUwB7M"
      },
      "source": [
        "\n",
        "# Creating the Model"
      ]
    },
    {
      "cell_type": "markdown",
      "metadata": {
        "id": "Giu95zLhwG1t"
      },
      "source": [
        "\n",
        "We will check on various model and then select the best one among them to get the results on the test set. The models will be compared on the basis of their accuracy on the Validation set."
      ]
    },
    {
      "cell_type": "markdown",
      "metadata": {
        "id": "pYJhXNGowKuF"
      },
      "source": [
        "**1. Logistic Regression**"
      ]
    },
    {
      "cell_type": "code",
      "metadata": {
        "id": "53pMbaP2v-Sz"
      },
      "source": [
        "from sklearn.linear_model import LogisticRegression"
      ],
      "execution_count": 18,
      "outputs": []
    },
    {
      "cell_type": "code",
      "metadata": {
        "colab": {
          "base_uri": "https://localhost:8080/"
        },
        "id": "Au-q5VcQwVAB",
        "outputId": "64d120d3-10dd-40ed-a463-b1ebc010a148"
      },
      "source": [
        "lr=LogisticRegression()\n",
        "lr.fit(X_train,y_train)"
      ],
      "execution_count": 19,
      "outputs": [
        {
          "output_type": "stream",
          "text": [
            "/usr/local/lib/python3.7/dist-packages/sklearn/linear_model/_logistic.py:940: ConvergenceWarning: lbfgs failed to converge (status=1):\n",
            "STOP: TOTAL NO. of ITERATIONS REACHED LIMIT.\n",
            "\n",
            "Increase the number of iterations (max_iter) or scale the data as shown in:\n",
            "    https://scikit-learn.org/stable/modules/preprocessing.html\n",
            "Please also refer to the documentation for alternative solver options:\n",
            "    https://scikit-learn.org/stable/modules/linear_model.html#logistic-regression\n",
            "  extra_warning_msg=_LOGISTIC_SOLVER_CONVERGENCE_MSG)\n"
          ],
          "name": "stderr"
        },
        {
          "output_type": "execute_result",
          "data": {
            "text/plain": [
              "LogisticRegression(C=1.0, class_weight=None, dual=False, fit_intercept=True,\n",
              "                   intercept_scaling=1, l1_ratio=None, max_iter=100,\n",
              "                   multi_class='auto', n_jobs=None, penalty='l2',\n",
              "                   random_state=None, solver='lbfgs', tol=0.0001, verbose=0,\n",
              "                   warm_start=False)"
            ]
          },
          "metadata": {
            "tags": []
          },
          "execution_count": 19
        }
      ]
    },
    {
      "cell_type": "code",
      "metadata": {
        "id": "KARpsIy1wXe6"
      },
      "source": [
        "pred = lr.predict(X_val)"
      ],
      "execution_count": 20,
      "outputs": []
    },
    {
      "cell_type": "code",
      "metadata": {
        "id": "meO54eUEwbGD"
      },
      "source": [
        "from sklearn.metrics import classification_report,confusion_matrix"
      ],
      "execution_count": 21,
      "outputs": []
    },
    {
      "cell_type": "code",
      "metadata": {
        "colab": {
          "base_uri": "https://localhost:8080/"
        },
        "id": "Yh1nuxN3wdar",
        "outputId": "34cc2351-fa3c-428e-a5d3-6bd122750a8c"
      },
      "source": [
        "print(classification_report(y_val,pred))"
      ],
      "execution_count": 22,
      "outputs": [
        {
          "output_type": "stream",
          "text": [
            "              precision    recall  f1-score   support\n",
            "\n",
            "           0       0.81      0.89      0.85        28\n",
            "           1       0.90      0.82      0.86        33\n",
            "\n",
            "    accuracy                           0.85        61\n",
            "   macro avg       0.85      0.86      0.85        61\n",
            "weighted avg       0.86      0.85      0.85        61\n",
            "\n"
          ],
          "name": "stdout"
        }
      ]
    },
    {
      "cell_type": "code",
      "metadata": {
        "colab": {
          "base_uri": "https://localhost:8080/"
        },
        "id": "ZfRgpzG8whb7",
        "outputId": "f58b83c6-f594-4eee-b496-b10b31761e69"
      },
      "source": [
        "print(confusion_matrix(y_val,pred))"
      ],
      "execution_count": 23,
      "outputs": [
        {
          "output_type": "stream",
          "text": [
            "[[25  3]\n",
            " [ 6 27]]\n"
          ],
          "name": "stdout"
        }
      ]
    },
    {
      "cell_type": "markdown",
      "metadata": {
        "id": "I3toEu_twpFi"
      },
      "source": [
        "**2. Random Forrest**"
      ]
    },
    {
      "cell_type": "code",
      "metadata": {
        "colab": {
          "base_uri": "https://localhost:8080/"
        },
        "id": "r31LAlFvwkxD",
        "outputId": "a11cb641-ebdf-4fb9-b21d-115dd5ebb2e9"
      },
      "source": [
        "from sklearn.ensemble import RandomForestClassifier\n",
        "rf=RandomForestClassifier()\n",
        "rf.fit(X_train,y_train)"
      ],
      "execution_count": 24,
      "outputs": [
        {
          "output_type": "execute_result",
          "data": {
            "text/plain": [
              "RandomForestClassifier(bootstrap=True, ccp_alpha=0.0, class_weight=None,\n",
              "                       criterion='gini', max_depth=None, max_features='auto',\n",
              "                       max_leaf_nodes=None, max_samples=None,\n",
              "                       min_impurity_decrease=0.0, min_impurity_split=None,\n",
              "                       min_samples_leaf=1, min_samples_split=2,\n",
              "                       min_weight_fraction_leaf=0.0, n_estimators=100,\n",
              "                       n_jobs=None, oob_score=False, random_state=None,\n",
              "                       verbose=0, warm_start=False)"
            ]
          },
          "metadata": {
            "tags": []
          },
          "execution_count": 24
        }
      ]
    },
    {
      "cell_type": "code",
      "metadata": {
        "colab": {
          "base_uri": "https://localhost:8080/"
        },
        "id": "pNrRuMY1wxlT",
        "outputId": "32e80bb1-30db-4a1b-c90f-46675a67117d"
      },
      "source": [
        "pred2=rf.predict(X_val)\n",
        "print(confusion_matrix(y_val,pred2))"
      ],
      "execution_count": 25,
      "outputs": [
        {
          "output_type": "stream",
          "text": [
            "[[25  3]\n",
            " [ 6 27]]\n"
          ],
          "name": "stdout"
        }
      ]
    },
    {
      "cell_type": "code",
      "metadata": {
        "colab": {
          "base_uri": "https://localhost:8080/"
        },
        "id": "nQRb8-ukw1px",
        "outputId": "45e4e1e9-5d9e-44bd-eb7c-24127db8138f"
      },
      "source": [
        "print(classification_report(y_val,pred2))"
      ],
      "execution_count": 26,
      "outputs": [
        {
          "output_type": "stream",
          "text": [
            "              precision    recall  f1-score   support\n",
            "\n",
            "           0       0.81      0.89      0.85        28\n",
            "           1       0.90      0.82      0.86        33\n",
            "\n",
            "    accuracy                           0.85        61\n",
            "   macro avg       0.85      0.86      0.85        61\n",
            "weighted avg       0.86      0.85      0.85        61\n",
            "\n"
          ],
          "name": "stdout"
        }
      ]
    },
    {
      "cell_type": "markdown",
      "metadata": {
        "id": "Hn8d__NVw8pE"
      },
      "source": [
        "**3. Neural Network**"
      ]
    },
    {
      "cell_type": "markdown",
      "metadata": {
        "id": "DdkTuB71w_0K"
      },
      "source": [
        "We will make a neural network and compare it's accuracy with the above two algothims. As the data set is small with only 13 features, the model will have only 2 hidden layers with decreasing number of neurons.\n",
        "\n",
        "Data Scaling\n",
        "\n"
      ]
    },
    {
      "cell_type": "code",
      "metadata": {
        "colab": {
          "base_uri": "https://localhost:8080/"
        },
        "id": "fTGEPuHYw4jq",
        "outputId": "6bf49284-04bd-4852-8c5b-290f3a80fa79"
      },
      "source": [
        "from sklearn.preprocessing import MinMaxScaler\n",
        "scaler=MinMaxScaler()\n",
        "scaler.fit(X_train)"
      ],
      "execution_count": 27,
      "outputs": [
        {
          "output_type": "execute_result",
          "data": {
            "text/plain": [
              "MinMaxScaler(copy=True, feature_range=(0, 1))"
            ]
          },
          "metadata": {
            "tags": []
          },
          "execution_count": 27
        }
      ]
    },
    {
      "cell_type": "code",
      "metadata": {
        "id": "iGT2B8Y7xHy6"
      },
      "source": [
        "X_train=scaler.transform(X_train)\n",
        "X_val=scaler.transform(X_val)"
      ],
      "execution_count": 28,
      "outputs": []
    },
    {
      "cell_type": "code",
      "metadata": {
        "id": "b54jr1eUxKdD"
      },
      "source": [
        "import tensorflow as tf\n",
        "from tensorflow.keras.models import Sequential\n",
        "from tensorflow.keras.layers import Dense, Activation,Dropout\n",
        "from tensorflow.keras.constraints import max_norm\n",
        "from tensorflow.keras.callbacks import EarlyStopping"
      ],
      "execution_count": 29,
      "outputs": []
    },
    {
      "cell_type": "code",
      "metadata": {
        "id": "bxEYkho-xObp"
      },
      "source": [
        "\n",
        "model=Sequential()\n",
        "#input layer\n",
        "model.add(Dense(units=13,activation='relu'))\n",
        "#hidden layer 1\n",
        "model.add(Dense(units=9,activation='relu'))\n",
        "#hidden layer 2\n",
        "model.add(Dense(units=5,activation='relu'))\n",
        "#output layer\n",
        "model.add(Dense(units=1,activation='sigmoid'))\n",
        "\n",
        "model.compile(loss='binary_crossentropy', optimizer ='adam')"
      ],
      "execution_count": 30,
      "outputs": []
    },
    {
      "cell_type": "code",
      "metadata": {
        "id": "9YGdlMx6xRfr"
      },
      "source": [
        "early_stop=EarlyStopping(mode='min',verbose=1,patience=5)"
      ],
      "execution_count": 31,
      "outputs": []
    },
    {
      "cell_type": "code",
      "metadata": {
        "colab": {
          "base_uri": "https://localhost:8080/"
        },
        "id": "lZ24mQuIxU4C",
        "outputId": "e87acb2c-8cbd-46ff-fad9-a0c9c1f1ae8c"
      },
      "source": [
        "model.fit(x=X_train,y=y_train,epochs=150,validation_data=(X_val,y_val),verbose=1,callbacks=[early_stop])"
      ],
      "execution_count": 32,
      "outputs": [
        {
          "output_type": "stream",
          "text": [
            "Epoch 1/150\n",
            "6/6 [==============================] - 1s 33ms/step - loss: 0.6794 - val_loss: 0.6917\n",
            "Epoch 2/150\n",
            "6/6 [==============================] - 0s 5ms/step - loss: 0.6734 - val_loss: 0.6873\n",
            "Epoch 3/150\n",
            "6/6 [==============================] - 0s 5ms/step - loss: 0.6673 - val_loss: 0.6826\n",
            "Epoch 4/150\n",
            "6/6 [==============================] - 0s 6ms/step - loss: 0.6617 - val_loss: 0.6773\n",
            "Epoch 5/150\n",
            "6/6 [==============================] - 0s 6ms/step - loss: 0.6556 - val_loss: 0.6721\n",
            "Epoch 6/150\n",
            "6/6 [==============================] - 0s 6ms/step - loss: 0.6499 - val_loss: 0.6661\n",
            "Epoch 7/150\n",
            "6/6 [==============================] - 0s 6ms/step - loss: 0.6433 - val_loss: 0.6604\n",
            "Epoch 8/150\n",
            "6/6 [==============================] - 0s 6ms/step - loss: 0.6370 - val_loss: 0.6541\n",
            "Epoch 9/150\n",
            "6/6 [==============================] - 0s 6ms/step - loss: 0.6302 - val_loss: 0.6474\n",
            "Epoch 10/150\n",
            "6/6 [==============================] - 0s 6ms/step - loss: 0.6234 - val_loss: 0.6396\n",
            "Epoch 11/150\n",
            "6/6 [==============================] - 0s 6ms/step - loss: 0.6153 - val_loss: 0.6316\n",
            "Epoch 12/150\n",
            "6/6 [==============================] - 0s 6ms/step - loss: 0.6071 - val_loss: 0.6236\n",
            "Epoch 13/150\n",
            "6/6 [==============================] - 0s 5ms/step - loss: 0.5984 - val_loss: 0.6148\n",
            "Epoch 14/150\n",
            "6/6 [==============================] - 0s 5ms/step - loss: 0.5894 - val_loss: 0.6071\n",
            "Epoch 15/150\n",
            "6/6 [==============================] - 0s 5ms/step - loss: 0.5807 - val_loss: 0.6002\n",
            "Epoch 16/150\n",
            "6/6 [==============================] - 0s 5ms/step - loss: 0.5702 - val_loss: 0.5918\n",
            "Epoch 17/150\n",
            "6/6 [==============================] - 0s 5ms/step - loss: 0.5603 - val_loss: 0.5839\n",
            "Epoch 18/150\n",
            "6/6 [==============================] - 0s 5ms/step - loss: 0.5504 - val_loss: 0.5764\n",
            "Epoch 19/150\n",
            "6/6 [==============================] - 0s 6ms/step - loss: 0.5414 - val_loss: 0.5675\n",
            "Epoch 20/150\n",
            "6/6 [==============================] - 0s 6ms/step - loss: 0.5325 - val_loss: 0.5580\n",
            "Epoch 21/150\n",
            "6/6 [==============================] - 0s 6ms/step - loss: 0.5236 - val_loss: 0.5522\n",
            "Epoch 22/150\n",
            "6/6 [==============================] - 0s 5ms/step - loss: 0.5151 - val_loss: 0.5416\n",
            "Epoch 23/150\n",
            "6/6 [==============================] - 0s 6ms/step - loss: 0.5069 - val_loss: 0.5314\n",
            "Epoch 24/150\n",
            "6/6 [==============================] - 0s 6ms/step - loss: 0.4994 - val_loss: 0.5231\n",
            "Epoch 25/150\n",
            "6/6 [==============================] - 0s 5ms/step - loss: 0.4924 - val_loss: 0.5161\n",
            "Epoch 26/150\n",
            "6/6 [==============================] - 0s 5ms/step - loss: 0.4856 - val_loss: 0.5100\n",
            "Epoch 27/150\n",
            "6/6 [==============================] - 0s 5ms/step - loss: 0.4790 - val_loss: 0.5022\n",
            "Epoch 28/150\n",
            "6/6 [==============================] - 0s 5ms/step - loss: 0.4725 - val_loss: 0.4960\n",
            "Epoch 29/150\n",
            "6/6 [==============================] - 0s 10ms/step - loss: 0.4674 - val_loss: 0.4885\n",
            "Epoch 30/150\n",
            "6/6 [==============================] - 0s 6ms/step - loss: 0.4610 - val_loss: 0.4848\n",
            "Epoch 31/150\n",
            "6/6 [==============================] - 0s 7ms/step - loss: 0.4558 - val_loss: 0.4791\n",
            "Epoch 32/150\n",
            "6/6 [==============================] - 0s 6ms/step - loss: 0.4501 - val_loss: 0.4766\n",
            "Epoch 33/150\n",
            "6/6 [==============================] - 0s 7ms/step - loss: 0.4452 - val_loss: 0.4720\n",
            "Epoch 34/150\n",
            "6/6 [==============================] - 0s 6ms/step - loss: 0.4400 - val_loss: 0.4676\n",
            "Epoch 35/150\n",
            "6/6 [==============================] - 0s 6ms/step - loss: 0.4352 - val_loss: 0.4649\n",
            "Epoch 36/150\n",
            "6/6 [==============================] - 0s 9ms/step - loss: 0.4310 - val_loss: 0.4576\n",
            "Epoch 37/150\n",
            "6/6 [==============================] - 0s 6ms/step - loss: 0.4259 - val_loss: 0.4572\n",
            "Epoch 38/150\n",
            "6/6 [==============================] - 0s 6ms/step - loss: 0.4212 - val_loss: 0.4521\n",
            "Epoch 39/150\n",
            "6/6 [==============================] - 0s 5ms/step - loss: 0.4168 - val_loss: 0.4475\n",
            "Epoch 40/150\n",
            "6/6 [==============================] - 0s 6ms/step - loss: 0.4124 - val_loss: 0.4390\n",
            "Epoch 41/150\n",
            "6/6 [==============================] - 0s 5ms/step - loss: 0.4072 - val_loss: 0.4358\n",
            "Epoch 42/150\n",
            "6/6 [==============================] - 0s 6ms/step - loss: 0.4028 - val_loss: 0.4351\n",
            "Epoch 43/150\n",
            "6/6 [==============================] - 0s 5ms/step - loss: 0.3968 - val_loss: 0.4273\n",
            "Epoch 44/150\n",
            "6/6 [==============================] - 0s 6ms/step - loss: 0.3905 - val_loss: 0.4237\n",
            "Epoch 45/150\n",
            "6/6 [==============================] - 0s 7ms/step - loss: 0.3834 - val_loss: 0.4169\n",
            "Epoch 46/150\n",
            "6/6 [==============================] - 0s 6ms/step - loss: 0.3772 - val_loss: 0.4120\n",
            "Epoch 47/150\n",
            "6/6 [==============================] - 0s 6ms/step - loss: 0.3722 - val_loss: 0.4114\n",
            "Epoch 48/150\n",
            "6/6 [==============================] - 0s 6ms/step - loss: 0.3643 - val_loss: 0.4048\n",
            "Epoch 49/150\n",
            "6/6 [==============================] - 0s 5ms/step - loss: 0.3586 - val_loss: 0.3999\n",
            "Epoch 50/150\n",
            "6/6 [==============================] - 0s 6ms/step - loss: 0.3533 - val_loss: 0.3987\n",
            "Epoch 51/150\n",
            "6/6 [==============================] - 0s 6ms/step - loss: 0.3480 - val_loss: 0.4001\n",
            "Epoch 52/150\n",
            "6/6 [==============================] - 0s 6ms/step - loss: 0.3430 - val_loss: 0.3966\n",
            "Epoch 53/150\n",
            "6/6 [==============================] - 0s 6ms/step - loss: 0.3381 - val_loss: 0.3958\n",
            "Epoch 54/150\n",
            "6/6 [==============================] - 0s 6ms/step - loss: 0.3341 - val_loss: 0.3958\n",
            "Epoch 55/150\n",
            "6/6 [==============================] - 0s 7ms/step - loss: 0.3304 - val_loss: 0.3964\n",
            "Epoch 56/150\n",
            "6/6 [==============================] - 0s 6ms/step - loss: 0.3261 - val_loss: 0.3942\n",
            "Epoch 57/150\n",
            "6/6 [==============================] - 0s 6ms/step - loss: 0.3240 - val_loss: 0.3951\n",
            "Epoch 58/150\n",
            "6/6 [==============================] - 0s 6ms/step - loss: 0.3195 - val_loss: 0.3907\n",
            "Epoch 59/150\n",
            "6/6 [==============================] - 0s 6ms/step - loss: 0.3171 - val_loss: 0.3925\n",
            "Epoch 60/150\n",
            "6/6 [==============================] - 0s 6ms/step - loss: 0.3153 - val_loss: 0.3990\n",
            "Epoch 61/150\n",
            "6/6 [==============================] - 0s 6ms/step - loss: 0.3122 - val_loss: 0.3987\n",
            "Epoch 62/150\n",
            "6/6 [==============================] - 0s 6ms/step - loss: 0.3095 - val_loss: 0.3915\n",
            "Epoch 63/150\n",
            "6/6 [==============================] - 0s 6ms/step - loss: 0.3083 - val_loss: 0.3919\n",
            "Epoch 00063: early stopping\n"
          ],
          "name": "stdout"
        },
        {
          "output_type": "execute_result",
          "data": {
            "text/plain": [
              "<tensorflow.python.keras.callbacks.History at 0x7f08ec9ed050>"
            ]
          },
          "metadata": {
            "tags": []
          },
          "execution_count": 32
        }
      ]
    },
    {
      "cell_type": "code",
      "metadata": {
        "colab": {
          "base_uri": "https://localhost:8080/",
          "height": 282
        },
        "id": "jPh5A6emxfbr",
        "outputId": "ca914c63-0ce9-476e-cb2f-59cbfac74a12"
      },
      "source": [
        "model_loss =pd.DataFrame(model.history.history)\n",
        "model_loss.plot()"
      ],
      "execution_count": 33,
      "outputs": [
        {
          "output_type": "execute_result",
          "data": {
            "text/plain": [
              "<matplotlib.axes._subplots.AxesSubplot at 0x7f08ec128b10>"
            ]
          },
          "metadata": {
            "tags": []
          },
          "execution_count": 33
        },
        {
          "output_type": "display_data",
          "data": {
            "image/png": "[encoded data removed]",
            "text/plain": [
              "<Figure size 432x288 with 1 Axes>"
            ]
          },
          "metadata": {
            "tags": [],
            "needs_background": "light"
          }
        }
      ]
    },
    {
      "cell_type": "code",
      "metadata": {
        "colab": {
          "base_uri": "https://localhost:8080/"
        },
        "id": "EaS3yc1Axm9k",
        "outputId": "42b8bc30-bdcc-4ceb-84a0-ce9fac91f546"
      },
      "source": [
        "pred3=model.predict_classes(X_val)\n",
        "print(classification_report(y_val,pred3))"
      ],
      "execution_count": 34,
      "outputs": [
        {
          "output_type": "stream",
          "text": [
            "              precision    recall  f1-score   support\n",
            "\n",
            "           0       0.81      0.93      0.87        28\n",
            "           1       0.93      0.82      0.87        33\n",
            "\n",
            "    accuracy                           0.87        61\n",
            "   macro avg       0.87      0.87      0.87        61\n",
            "weighted avg       0.88      0.87      0.87        61\n",
            "\n"
          ],
          "name": "stdout"
        },
        {
          "output_type": "stream",
          "text": [
            "/usr/local/lib/python3.7/dist-packages/tensorflow/python/keras/engine/sequential.py:455: UserWarning: `model.predict_classes()` is deprecated and will be removed after 2021-01-01. Please use instead:* `np.argmax(model.predict(x), axis=-1)`,   if your model does multi-class classification   (e.g. if it uses a `softmax` last-layer activation).* `(model.predict(x) > 0.5).astype(\"int32\")`,   if your model does binary classification   (e.g. if it uses a `sigmoid` last-layer activation).\n",
            "  warnings.warn('`model.predict_classes()` is deprecated and '\n"
          ],
          "name": "stderr"
        }
      ]
    },
    {
      "cell_type": "code",
      "metadata": {
        "colab": {
          "base_uri": "https://localhost:8080/"
        },
        "id": "3O-YYeU6xqib",
        "outputId": "0958abd6-4d5d-4541-cb61-c32ad794ecf1"
      },
      "source": [
        "print(confusion_matrix(y_val,pred3))"
      ],
      "execution_count": 35,
      "outputs": [
        {
          "output_type": "stream",
          "text": [
            "[[26  2]\n",
            " [ 6 27]]\n"
          ],
          "name": "stdout"
        }
      ]
    },
    {
      "cell_type": "markdown",
      "metadata": {
        "id": "42VpepE5xyNF"
      },
      "source": [
        "# Comparison Of Models\n",
        "On comparing the classification reports and the confusion matrix of all the models, the Random Forest is better than others as it correctly predicts one validation case more than others. As all the models are similiar, we will be using the Random Forest to evaluate the test set.\n",
        "## Evaluation of Test set"
      ]
    },
    {
      "cell_type": "code",
      "metadata": {
        "colab": {
          "base_uri": "https://localhost:8080/"
        },
        "id": "fSVUsRW5xu_r",
        "outputId": "fd59f83d-54f2-4a98-f4e9-82b3089fe102"
      },
      "source": [
        "predictions=rf.predict(X_test)\n",
        "print(confusion_matrix(y_test,predictions))"
      ],
      "execution_count": 36,
      "outputs": [
        {
          "output_type": "stream",
          "text": [
            "[[18  6]\n",
            " [ 7 30]]\n"
          ],
          "name": "stdout"
        }
      ]
    },
    {
      "cell_type": "code",
      "metadata": {
        "colab": {
          "base_uri": "https://localhost:8080/"
        },
        "id": "rsNn_1RcyAXA",
        "outputId": "25db7eb6-7640-4f2b-b5d7-03dacd681ca2"
      },
      "source": [
        "print(classification_report(y_test,predictions))"
      ],
      "execution_count": 37,
      "outputs": [
        {
          "output_type": "stream",
          "text": [
            "              precision    recall  f1-score   support\n",
            "\n",
            "           0       0.72      0.75      0.73        24\n",
            "           1       0.83      0.81      0.82        37\n",
            "\n",
            "    accuracy                           0.79        61\n",
            "   macro avg       0.78      0.78      0.78        61\n",
            "weighted avg       0.79      0.79      0.79        61\n",
            "\n"
          ],
          "name": "stdout"
        }
      ]
    },
    {
      "cell_type": "code",
      "metadata": {
        "id": "OfCBENAXyCh7"
      },
      "source": [
        ""
      ],
      "execution_count": null,
      "outputs": []
    }
  ]
}